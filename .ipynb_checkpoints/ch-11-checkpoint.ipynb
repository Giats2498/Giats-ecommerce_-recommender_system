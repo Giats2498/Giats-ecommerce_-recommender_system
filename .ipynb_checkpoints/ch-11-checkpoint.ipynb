{
 "cells": [
  {
   "cell_type": "markdown",
   "metadata": {
    "toc": true
   },
   "source": [
    "<h1>Table of Contents<span class=\"tocSkip\"></span></h1>\n",
    "<div class=\"toc\"><ul class=\"toc-item\"></ul></div>"
   ]
  },
  {
   "cell_type": "code",
   "execution_count": 1,
   "metadata": {
    "scrolled": true
   },
   "outputs": [
    {
     "name": "stdout",
     "output_type": "stream",
     "text": [
      "NumPy:1.18.5\n",
      "Pandas:1.0.5\n",
      "TensorFlow:2.3.0\n",
      "Keras:2.4.0\n",
      "Python interpreter and version: 3.8.3 (default, Jul  2 2020, 17:30:36) [MSC v.1916 64 bit (AMD64)]\n"
     ]
    }
   ],
   "source": [
    "import numpy as np\n",
    "np.random.seed(123)\n",
    "print(\"NumPy:{}\".format(np.__version__))\n",
    "\n",
    "import pandas as pd\n",
    "print(\"Pandas:{}\".format(pd.__version__))\n",
    "\n",
    "import tensorflow as tf\n",
    "print(\"TensorFlow:{}\".format(tf.__version__))\n",
    "\n",
    "import tensorflow.keras as keras\n",
    "print(\"Keras:{}\".format(keras.__version__))\n",
    "\n",
    "import os\n",
    "import sys\n",
    "print('Python interpreter and version:',sys.version)"
   ]
  },
  {
   "cell_type": "code",
   "execution_count": 2,
   "metadata": {},
   "outputs": [
    {
     "name": "stdout",
     "output_type": "stream",
     "text": [
      "Event data\n",
      "        timestamp  visitorid event  itemid  transactionid\n",
      "0  1433221332117     257597  view  355908            NaN\n",
      "1  1433224214164     992329  view  248676            NaN\n",
      "2  1433221999827     111016  view  318965            NaN\n",
      "3  1433221955914     483717  view  253185            NaN\n",
      "4  1433221337106     951259  view  367447            NaN\n"
     ]
    }
   ],
   "source": [
    "events = pd.read_csv('events.csv')\n",
    "print('Event data\\n',events.head())"
   ]
  },
  {
   "cell_type": "code",
   "execution_count": 3,
   "metadata": {},
   "outputs": [
    {
     "name": "stdout",
     "output_type": "stream",
     "text": [
      "Unique counts: timestamp        2750455\n",
      "visitorid        1407580\n",
      "event                  3\n",
      "itemid            235061\n",
      "transactionid      17672\n",
      "dtype: int64\n"
     ]
    }
   ],
   "source": [
    "print('Unique counts:',events.nunique())"
   ]
  },
  {
   "cell_type": "code",
   "execution_count": 4,
   "metadata": {},
   "outputs": [
    {
     "name": "stdout",
     "output_type": "stream",
     "text": [
      "Kind of events: ['view' 'addtocart' 'transaction']\n"
     ]
    }
   ],
   "source": [
    "print('Kind of events:',events.event.unique())"
   ]
  },
  {
   "cell_type": "code",
   "execution_count": 5,
   "metadata": {},
   "outputs": [],
   "source": [
    "events.event.replace(to_replace=dict(view=1, \n",
    "                                     addtocart=2, \n",
    "                                     transaction=3), \n",
    "                     inplace=True)\n",
    "events.drop(['transactionid'],axis=1,inplace=True)\n",
    "events.drop(['timestamp'],axis=1,inplace=True)\n",
    "#events = events.sample(frac=1).reset_index(drop=True)\n",
    "events = events.reindex(np.random.permutation(events.index))\n",
    "#events=events[0:100000]"
   ]
  },
  {
   "cell_type": "code",
   "execution_count": 6,
   "metadata": {},
   "outputs": [
    {
     "name": "stdout",
     "output_type": "stream",
     "text": [
      "         visitorid  event  itemid\n",
      "1621867     896963      1  264947\n",
      "1060311    1102098      1  431592\n",
      "114317     1241997      1  283584\n",
      "1658382     198153      1   97879\n",
      "2173151    1278262      1  218178\n",
      "         visitorid  event  itemid\n",
      "1903213      85425      1  344338\n",
      "1722815    1085328      1   59691\n",
      "1388040    1366284      1  248032\n",
      "2669880     478634      1  388940\n",
      "1893864    1052918      1  328647\n",
      "         visitorid  event  itemid\n",
      "1004940     193171      1   11565\n",
      "642906      704648      1  262522\n",
      "902126       10212      1   46971\n",
      "569976      753933      1   29489\n",
      "1517206     261457      1  154821\n"
     ]
    }
   ],
   "source": [
    "split_1 = int(0.8 * len(events))\n",
    "split_2 = int(0.9 * len(events))\n",
    "train = events[:split_1]\n",
    "valid = events[split_1:split_2]\n",
    "test = events[split_2:]\n",
    "print(train.head())\n",
    "print(valid.head())\n",
    "print(test.head())"
   ]
  },
  {
   "cell_type": "code",
   "execution_count": 7,
   "metadata": {},
   "outputs": [],
   "source": [
    "n_visitors = events.visitorid.nunique()\n",
    "n_items = events.itemid.nunique()\n",
    "n_latent_factors = 5"
   ]
  },
  {
   "cell_type": "code",
   "execution_count": null,
   "metadata": {},
   "outputs": [],
   "source": [
    "from tensorflow.keras.layers import Input, Embedding, Flatten\n",
    "item_input = Input(shape=[1],name='Items')\n",
    "item_embed = Embedding(n_items + 1,\n",
    "                       n_latent_factors, \n",
    "                       name='ItemsEmbedding')(item_input)\n",
    "item_vec = Flatten(name='ItemsFlatten')(item_embed)\n",
    "\n",
    "visitor_input = Input(shape=[1],name='Visitors')\n",
    "visitor_embed = Embedding(n_visitors + 1,\n",
    "                          n_latent_factors,\n",
    "                          name='VisitorsEmbedding')(visitor_input)\n",
    "visitor_vec = Flatten(name='VisitorsFlatten')(visitor_embed)\n",
    "\n",
    "dot_prod = keras.layers.dot([item_vec, visitor_vec],axes=[1,1],\n",
    "                             name='DotProduct') \n",
    "model = keras.Model([item_input, visitor_input], dot_prod)\n",
    "model.compile('adam', 'mse')"
   ]
  },
  {
   "cell_type": "code",
   "execution_count": null,
   "metadata": {},
   "outputs": [],
   "source": [
    "model.summary()"
   ]
  },
  {
   "cell_type": "code",
   "execution_count": null,
   "metadata": {
    "scrolled": true
   },
   "outputs": [],
   "source": [
    "keras.utils.plot_model(model, \n",
    "                       to_file='model.png', \n",
    "                       show_shapes=True, \n",
    "                       show_layer_names=True)\n",
    "from IPython import display\n",
    "display.display(display.Image('model.png'))"
   ]
  },
  {
   "cell_type": "code",
   "execution_count": null,
   "metadata": {},
   "outputs": [],
   "source": [
    "model.fit([train.visitorid, train.itemid], train.event, epochs=50)"
   ]
  },
  {
   "cell_type": "code",
   "execution_count": null,
   "metadata": {},
   "outputs": [],
   "source": [
    "score = model.evaluate([test.visitorid, test.itemid], test.event)\n",
    "print('mean squared error:', score)"
   ]
  },
  {
   "cell_type": "code",
   "execution_count": null,
   "metadata": {},
   "outputs": [],
   "source": [
    "from tensorflow.keras.layers import Input, Embedding, Flatten, Dense\n",
    "\n",
    "n_lf_visitor = 5\n",
    "n_lf_item = 5\n",
    "\n",
    "item_input = Input(shape=[1],name='Items')\n",
    "item_embed = Embedding(n_items + 1,\n",
    "                           n_lf_visitor, \n",
    "                           name='ItemsEmbedding')(item_input)\n",
    "item_vec = Flatten(name='ItemsFlatten')(item_embed)\n",
    "\n",
    "visitor_input = Input(shape=[1],name='Visitors')\n",
    "visitor_embed = Embedding(n_visitors + 1, \n",
    "                              n_lf_item,\n",
    "                              name='VisitorsEmbedding')(visitor_input)\n",
    "visitor_vec = Flatten(name='VisitorsFlatten')(visitor_embed)\n",
    "\n",
    "concat = keras.layers.concatenate([item_vec, visitor_vec], name='Concat')\n",
    "fc_1 = Dense(80,name='FC-1')(concat)\n",
    "fc_2 = Dense(40,name='FC-2')(fc_1)\n",
    "fc_3 = Dense(20,name='FC-3', activation='relu')(fc_2)\n",
    "\n",
    "output = Dense(1, activation='relu',name='Output')(fc_3)\n",
    "\n",
    "optimizer = keras.optimizers.Adam(lr=0.001)\n",
    "model = keras.Model([item_input, visitor_input], output)\n",
    "model.compile(optimizer=optimizer,loss= 'mse')"
   ]
  },
  {
   "cell_type": "code",
   "execution_count": null,
   "metadata": {},
   "outputs": [],
   "source": [
    "model.summary()"
   ]
  },
  {
   "cell_type": "code",
   "execution_count": null,
   "metadata": {},
   "outputs": [],
   "source": [
    "keras.utils.plot_model(model, \n",
    "                       to_file='model.png', \n",
    "                       show_shapes=True, \n",
    "                       show_layer_names=True)\n",
    "from IPython import display\n",
    "display.display(display.Image('model.png'))"
   ]
  },
  {
   "cell_type": "code",
   "execution_count": null,
   "metadata": {
    "scrolled": true
   },
   "outputs": [],
   "source": [
    "model.fit([train.visitorid, train.itemid], train.event, epochs=50)"
   ]
  },
  {
   "cell_type": "code",
   "execution_count": null,
   "metadata": {},
   "outputs": [],
   "source": [
    "score = model.evaluate([test.visitorid, test.itemid], test.event)\n",
    "print('mean squared error:', score)"
   ]
  }
 ],
 "metadata": {
  "kernelspec": {
   "display_name": "Python 3",
   "language": "python",
   "name": "python3"
  },
  "language_info": {
   "codemirror_mode": {
    "name": "ipython",
    "version": 3
   },
   "file_extension": ".py",
   "mimetype": "text/x-python",
   "name": "python",
   "nbconvert_exporter": "python",
   "pygments_lexer": "ipython3",
   "version": "3.8.3"
  },
  "toc": {
   "base_numbering": 1,
   "nav_menu": {},
   "number_sections": true,
   "sideBar": true,
   "skip_h1_title": true,
   "title_cell": "Table of Contents",
   "title_sidebar": "Contents",
   "toc_cell": true,
   "toc_position": {},
   "toc_section_display": true,
   "toc_window_display": true
  }
 },
 "nbformat": 4,
 "nbformat_minor": 2
}
